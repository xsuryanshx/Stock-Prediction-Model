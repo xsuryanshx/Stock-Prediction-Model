{
  "nbformat": 4,
  "nbformat_minor": 0,
  "metadata": {
    "colab": {
      "name": "Copy of Stock Prediction using LSTM.ipynb",
      "provenance": [],
      "authorship_tag": "ABX9TyN1SiicbF8P5w1aM1g9kSUG",
      "include_colab_link": true
    },
    "kernelspec": {
      "name": "python3",
      "display_name": "Python 3"
    }
  },
  "cells": [
    {
      "cell_type": "markdown",
      "metadata": {
        "id": "view-in-github",
        "colab_type": "text"
      },
      "source": [
        "<a href=\"https://colab.research.google.com/github/xsuryanshx/Stock-Prediction-Model/blob/master/Stock_Prediction_using_LSTM.ipynb\" target=\"_parent\"><img src=\"https://colab.research.google.com/assets/colab-badge.svg\" alt=\"Open In Colab\"/></a>"
      ]
    },
    {
      "cell_type": "code",
      "metadata": {
        "id": "DAw4UY8nYIL8",
        "outputId": "36f5a9d9-447b-4928-a317-33ee4f0d427c",
        "colab": {
          "base_uri": "https://localhost:8080/",
          "height": 35
        }
      },
      "source": [
        "# RNN\n",
        "import pandas as pd\n",
        "import random\n",
        "import os\n",
        "import copy\n",
        "import numpy as np\n",
        "import matplotlib.pyplot as plt\n",
        "import pandas as pd\n",
        "import plotly\n",
        "from plotly import __version__\n",
        "from plotly.offline import download_plotlyjs, init_notebook_mode, plot, iplot\n",
        "print(__version__) \n",
        "import cufflinks as cf\n",
        "import tensorflow as tf\n"
      ],
      "execution_count": null,
      "outputs": [
        {
          "output_type": "stream",
          "text": [
            "4.4.1\n"
          ],
          "name": "stdout"
        }
      ]
    },
    {
      "cell_type": "code",
      "metadata": {
        "id": "cURGqu4kFOs8"
      },
      "source": [
        "from pandas_datareader import data\n",
        "import matplotlib.pyplot as plt\n",
        "import pandas as pd\n",
        "import datetime as dt\n",
        "import urllib.request, json\n",
        "import os\n",
        "import numpy as np\n",
        "import tensorflow as tf # This code has been tested with TensorFlow 1.6\n",
        "from sklearn.preprocessing import MinMaxScaler"
      ],
      "execution_count": null,
      "outputs": []
    },
    {
      "cell_type": "markdown",
      "metadata": {
        "id": "TmxavlIDt823"
      },
      "source": [
        "# Microsoft Stock Prediction model"
      ]
    },
    {
      "cell_type": "code",
      "metadata": {
        "id": "pvW_7rPE0ko3"
      },
      "source": [
        "#Import the libraries\n",
        "import math\n",
        "import pandas_datareader as web\n",
        "import numpy as np\n",
        "import pandas as pd\n",
        "from sklearn.preprocessing import MinMaxScaler\n",
        "from keras.models import Sequential\n",
        "import tensorflow as tf\n",
        "from keras.layers import Dense, LSTM, Dropout\n",
        "from matplotlib import pyplot as plt\n",
        "plt.style.use('fivethirtyeight')"
      ],
      "execution_count": null,
      "outputs": []
    },
    {
      "cell_type": "code",
      "metadata": {
        "id": "FTYrgEh895Js",
        "outputId": "47c70808-6b39-4e2d-e496-dd7f36ba1475",
        "colab": {
          "base_uri": "https://localhost:8080/",
          "height": 455
        }
      },
      "source": [
        "#Get the stock quote \n",
        "df = web.DataReader('MSFT', data_source='yahoo', start='2000-01-01', end='2020-09-18') \n",
        "#Show the data \n",
        "df"
      ],
      "execution_count": null,
      "outputs": [
        {
          "output_type": "execute_result",
          "data": {
            "text/html": [
              "<div>\n",
              "<style scoped>\n",
              "    .dataframe tbody tr th:only-of-type {\n",
              "        vertical-align: middle;\n",
              "    }\n",
              "\n",
              "    .dataframe tbody tr th {\n",
              "        vertical-align: top;\n",
              "    }\n",
              "\n",
              "    .dataframe thead th {\n",
              "        text-align: right;\n",
              "    }\n",
              "</style>\n",
              "<table border=\"1\" class=\"dataframe\">\n",
              "  <thead>\n",
              "    <tr style=\"text-align: right;\">\n",
              "      <th></th>\n",
              "      <th>High</th>\n",
              "      <th>Low</th>\n",
              "      <th>Open</th>\n",
              "      <th>Close</th>\n",
              "      <th>Volume</th>\n",
              "      <th>Adj Close</th>\n",
              "    </tr>\n",
              "    <tr>\n",
              "      <th>Date</th>\n",
              "      <th></th>\n",
              "      <th></th>\n",
              "      <th></th>\n",
              "      <th></th>\n",
              "      <th></th>\n",
              "      <th></th>\n",
              "    </tr>\n",
              "  </thead>\n",
              "  <tbody>\n",
              "    <tr>\n",
              "      <th>2000-01-03</th>\n",
              "      <td>59.312500</td>\n",
              "      <td>56.000000</td>\n",
              "      <td>58.687500</td>\n",
              "      <td>58.281250</td>\n",
              "      <td>53228400.0</td>\n",
              "      <td>37.199776</td>\n",
              "    </tr>\n",
              "    <tr>\n",
              "      <th>2000-01-04</th>\n",
              "      <td>58.562500</td>\n",
              "      <td>56.125000</td>\n",
              "      <td>56.781250</td>\n",
              "      <td>56.312500</td>\n",
              "      <td>54119000.0</td>\n",
              "      <td>35.943153</td>\n",
              "    </tr>\n",
              "    <tr>\n",
              "      <th>2000-01-05</th>\n",
              "      <td>58.187500</td>\n",
              "      <td>54.687500</td>\n",
              "      <td>55.562500</td>\n",
              "      <td>56.906250</td>\n",
              "      <td>64059600.0</td>\n",
              "      <td>36.322121</td>\n",
              "    </tr>\n",
              "    <tr>\n",
              "      <th>2000-01-06</th>\n",
              "      <td>56.937500</td>\n",
              "      <td>54.187500</td>\n",
              "      <td>56.093750</td>\n",
              "      <td>55.000000</td>\n",
              "      <td>54976600.0</td>\n",
              "      <td>35.105415</td>\n",
              "    </tr>\n",
              "    <tr>\n",
              "      <th>2000-01-07</th>\n",
              "      <td>56.125000</td>\n",
              "      <td>53.656250</td>\n",
              "      <td>54.312500</td>\n",
              "      <td>55.718750</td>\n",
              "      <td>62013600.0</td>\n",
              "      <td>35.564171</td>\n",
              "    </tr>\n",
              "    <tr>\n",
              "      <th>...</th>\n",
              "      <td>...</td>\n",
              "      <td>...</td>\n",
              "      <td>...</td>\n",
              "      <td>...</td>\n",
              "      <td>...</td>\n",
              "      <td>...</td>\n",
              "    </tr>\n",
              "    <tr>\n",
              "      <th>2020-09-11</th>\n",
              "      <td>208.630005</td>\n",
              "      <td>201.240005</td>\n",
              "      <td>207.199997</td>\n",
              "      <td>204.029999</td>\n",
              "      <td>33620100.0</td>\n",
              "      <td>204.029999</td>\n",
              "    </tr>\n",
              "    <tr>\n",
              "      <th>2020-09-14</th>\n",
              "      <td>209.199997</td>\n",
              "      <td>204.029999</td>\n",
              "      <td>204.240005</td>\n",
              "      <td>205.410004</td>\n",
              "      <td>30375800.0</td>\n",
              "      <td>205.410004</td>\n",
              "    </tr>\n",
              "    <tr>\n",
              "      <th>2020-09-15</th>\n",
              "      <td>209.779999</td>\n",
              "      <td>206.929993</td>\n",
              "      <td>208.419998</td>\n",
              "      <td>208.779999</td>\n",
              "      <td>21823900.0</td>\n",
              "      <td>208.779999</td>\n",
              "    </tr>\n",
              "    <tr>\n",
              "      <th>2020-09-16</th>\n",
              "      <td>210.649994</td>\n",
              "      <td>204.639999</td>\n",
              "      <td>210.619995</td>\n",
              "      <td>205.050003</td>\n",
              "      <td>26328100.0</td>\n",
              "      <td>205.050003</td>\n",
              "    </tr>\n",
              "    <tr>\n",
              "      <th>2020-09-17</th>\n",
              "      <td>204.330002</td>\n",
              "      <td>199.960007</td>\n",
              "      <td>200.050003</td>\n",
              "      <td>202.910004</td>\n",
              "      <td>33940900.0</td>\n",
              "      <td>202.910004</td>\n",
              "    </tr>\n",
              "  </tbody>\n",
              "</table>\n",
              "<p>5211 rows × 6 columns</p>\n",
              "</div>"
            ],
            "text/plain": [
              "                  High         Low  ...      Volume   Adj Close\n",
              "Date                                ...                        \n",
              "2000-01-03   59.312500   56.000000  ...  53228400.0   37.199776\n",
              "2000-01-04   58.562500   56.125000  ...  54119000.0   35.943153\n",
              "2000-01-05   58.187500   54.687500  ...  64059600.0   36.322121\n",
              "2000-01-06   56.937500   54.187500  ...  54976600.0   35.105415\n",
              "2000-01-07   56.125000   53.656250  ...  62013600.0   35.564171\n",
              "...                ...         ...  ...         ...         ...\n",
              "2020-09-11  208.630005  201.240005  ...  33620100.0  204.029999\n",
              "2020-09-14  209.199997  204.029999  ...  30375800.0  205.410004\n",
              "2020-09-15  209.779999  206.929993  ...  21823900.0  208.779999\n",
              "2020-09-16  210.649994  204.639999  ...  26328100.0  205.050003\n",
              "2020-09-17  204.330002  199.960007  ...  33940900.0  202.910004\n",
              "\n",
              "[5211 rows x 6 columns]"
            ]
          },
          "metadata": {
            "tags": []
          },
          "execution_count": 103
        }
      ]
    },
    {
      "cell_type": "code",
      "metadata": {
        "id": "3jG_O46zNQjq",
        "outputId": "a0bb702f-0bfd-4a7c-8908-ebf2ac49b585",
        "colab": {
          "base_uri": "https://localhost:8080/",
          "height": 144
        }
      },
      "source": [
        "df.isna().sum()"
      ],
      "execution_count": null,
      "outputs": [
        {
          "output_type": "execute_result",
          "data": {
            "text/plain": [
              "High         0\n",
              "Low          0\n",
              "Open         0\n",
              "Close        0\n",
              "Volume       0\n",
              "Adj Close    0\n",
              "dtype: int64"
            ]
          },
          "metadata": {
            "tags": []
          },
          "execution_count": 104
        }
      ]
    },
    {
      "cell_type": "code",
      "metadata": {
        "id": "CWPtN2en98rf",
        "outputId": "74a20969-043a-4836-f2d9-443a188a65b8",
        "colab": {
          "base_uri": "https://localhost:8080/",
          "height": 558
        }
      },
      "source": [
        "#Visualize the closing price history\n",
        "plt.figure(figsize=(16,8))\n",
        "plt.title('Close Price History')\n",
        "plt.plot(df['Close'],linewidth =1)\n",
        "plt.xlabel('Date',fontsize=18)\n",
        "plt.ylabel('Close Price USD ($)',fontsize=18)\n",
        "plt.show()"
      ],
      "execution_count": null,
      "outputs": [
        {
          "output_type": "display_data",
          "data": {
            "image/png": "[encoded data removed]",
            "text/plain": [
              "<Figure size 1152x576 with 1 Axes>"
            ]
          },
          "metadata": {
            "tags": []
          }
        }
      ]
    },
    {
      "cell_type": "code",
      "metadata": {
        "id": "EvsQl09l-III"
      },
      "source": [
        "#Create a new dataframe with only the 'Close' column\n",
        "data = df.filter(['Close'])#Converting the dataframe to a numpy array\n",
        "dataset = data.values#Get /Compute the number of rows to train the model on\n",
        "training_data_len = math.ceil( len(dataset) *.8) "
      ],
      "execution_count": null,
      "outputs": []
    },
    {
      "cell_type": "code",
      "metadata": {
        "id": "3n3_3NG5RYi8",
        "outputId": "356a9eae-9bd5-401c-cacf-18f18e5d7365",
        "colab": {
          "base_uri": "https://localhost:8080/",
          "height": 144
        }
      },
      "source": [
        "dataset"
      ],
      "execution_count": null,
      "outputs": [
        {
          "output_type": "execute_result",
          "data": {
            "text/plain": [
              "array([[ 58.28125   ],\n",
              "       [ 56.3125    ],\n",
              "       [ 56.90625   ],\n",
              "       ...,\n",
              "       [208.77999878],\n",
              "       [205.05000305],\n",
              "       [202.91000366]])"
            ]
          },
          "metadata": {
            "tags": []
          },
          "execution_count": 107
        }
      ]
    },
    {
      "cell_type": "code",
      "metadata": {
        "id": "5jmG2BpR-uuL"
      },
      "source": [
        "#Scale the all of the data to be values between 0 and 1 \n",
        "scaler = MinMaxScaler(feature_range=(0, 1)) \n",
        "scaled_data = scaler.fit_transform(dataset)"
      ],
      "execution_count": null,
      "outputs": []
    },
    {
      "cell_type": "code",
      "metadata": {
        "id": "Vzgx1a8PRqK0",
        "outputId": "87c1503b-2fc5-45cc-f56d-ca7540d71b24",
        "colab": {
          "base_uri": "https://localhost:8080/",
          "height": 144
        }
      },
      "source": [
        "scaled_data"
      ],
      "execution_count": null,
      "outputs": [
        {
          "output_type": "execute_result",
          "data": {
            "text/plain": [
              "array([[0.19922056],\n",
              "       [0.19012703],\n",
              "       [0.19286952],\n",
              "       ...,\n",
              "       [0.89436492],\n",
              "       [0.8771363 ],\n",
              "       [0.86725177]])"
            ]
          },
          "metadata": {
            "tags": []
          },
          "execution_count": 109
        }
      ]
    },
    {
      "cell_type": "code",
      "metadata": {
        "id": "6hXlPP2USEbb"
      },
      "source": [
        "#training the data on a time step period of over 2 months i.e 60 days"
      ],
      "execution_count": null,
      "outputs": []
    },
    {
      "cell_type": "code",
      "metadata": {
        "id": "YsH5Tkml-w9W"
      },
      "source": [
        "#Create the scaled training data set \n",
        "train_data = scaled_data[0:training_data_len,: ]#Split the data into x_train and y_train data sets\n",
        "x_train=[]\n",
        "y_train = []\n",
        "for i in range(60,len(train_data)):\n",
        "    x_train.append(train_data[i-60:i,0])\n",
        "    y_train.append(train_data[i,0])"
      ],
      "execution_count": null,
      "outputs": []
    },
    {
      "cell_type": "code",
      "metadata": {
        "id": "oaksM1UK-y-G"
      },
      "source": [
        "#Convert x_train and y_train to numpy arrays\n",
        "x_train, y_train = np.array(x_train), np.array(y_train)"
      ],
      "execution_count": null,
      "outputs": []
    },
    {
      "cell_type": "code",
      "metadata": {
        "id": "GmMqYeUWTMPQ",
        "outputId": "33a7d791-bf03-42ab-ba64-8fd16da9e603",
        "colab": {
          "base_uri": "https://localhost:8080/",
          "height": 35
        }
      },
      "source": [
        "x_train.shape"
      ],
      "execution_count": null,
      "outputs": [
        {
          "output_type": "execute_result",
          "data": {
            "text/plain": [
              "(4109, 60)"
            ]
          },
          "metadata": {
            "tags": []
          },
          "execution_count": 113
        }
      ]
    },
    {
      "cell_type": "code",
      "metadata": {
        "id": "vwQ2WEGW-2C6"
      },
      "source": [
        "#Reshape the data into the shape accepted by the LSTM\n",
        "x_train = np.reshape(x_train, (x_train.shape[0],x_train.shape[1],1))"
      ],
      "execution_count": null,
      "outputs": []
    },
    {
      "cell_type": "code",
      "metadata": {
        "id": "rmSyMASD-5p0",
        "outputId": "1277955e-ec6d-4a47-fa4e-0db946a13037",
        "colab": {
          "base_uri": "https://localhost:8080/",
          "height": 562
        }
      },
      "source": [
        "#Build the LSTM network model\n",
        "model = Sequential()\n",
        "model.add(LSTM(units=60, return_sequences=True,input_shape=(x_train.shape[1],1)))\n",
        "model.add(tf.keras.layers.Bidirectional(LSTM(50,return_sequences=True)))\n",
        "model.add(tf.keras.layers.Bidirectional(LSTM(50,return_sequences=False)))\n",
        "model.add(Dense(units=25))\n",
        "model.add(Dense(units=1))\n",
        "#Compile the model\n",
        "model.compile(optimizer='adam', loss='mean_squared_error')\n",
        "\n",
        "#Train the model\n",
        "history = model.fit(x_train, y_train, batch_size=100, epochs=15)"
      ],
      "execution_count": null,
      "outputs": [
        {
          "output_type": "stream",
          "text": [
            "Epoch 1/15\n",
            "42/42 [==============================] - 8s 184ms/step - loss: 8.0863e-04\n",
            "Epoch 2/15\n",
            "42/42 [==============================] - 8s 183ms/step - loss: 7.0600e-05\n",
            "Epoch 3/15\n",
            "42/42 [==============================] - 8s 183ms/step - loss: 4.8734e-05\n",
            "Epoch 4/15\n",
            "42/42 [==============================] - 8s 184ms/step - loss: 4.2476e-05\n",
            "Epoch 5/15\n",
            "42/42 [==============================] - 8s 184ms/step - loss: 3.8153e-05\n",
            "Epoch 6/15\n",
            "42/42 [==============================] - 8s 184ms/step - loss: 4.2269e-05\n",
            "Epoch 7/15\n",
            "42/42 [==============================] - 8s 184ms/step - loss: 3.3829e-05\n",
            "Epoch 8/15\n",
            "42/42 [==============================] - 8s 185ms/step - loss: 3.1686e-05\n",
            "Epoch 9/15\n",
            "42/42 [==============================] - 8s 184ms/step - loss: 3.0491e-05\n",
            "Epoch 10/15\n",
            "42/42 [==============================] - 8s 185ms/step - loss: 2.7771e-05\n",
            "Epoch 11/15\n",
            "42/42 [==============================] - 8s 184ms/step - loss: 3.6866e-05\n",
            "Epoch 12/15\n",
            "42/42 [==============================] - 8s 185ms/step - loss: 3.3852e-05\n",
            "Epoch 13/15\n",
            "42/42 [==============================] - 8s 185ms/step - loss: 2.6072e-05\n",
            "Epoch 14/15\n",
            "42/42 [==============================] - 8s 185ms/step - loss: 2.8860e-05\n",
            "Epoch 15/15\n",
            "42/42 [==============================] - 8s 184ms/step - loss: 2.2868e-05\n"
          ],
          "name": "stdout"
        }
      ]
    },
    {
      "cell_type": "code",
      "metadata": {
        "id": "Y6F7fm-0-2bm",
        "outputId": "3c4409d2-37bf-4cc8-ef37-d55e9e56f410",
        "colab": {
          "base_uri": "https://localhost:8080/",
          "height": 321
        }
      },
      "source": [
        "plt.plot(history.history['loss'])\n",
        "plt.title('loss')\n",
        "plt.show"
      ],
      "execution_count": null,
      "outputs": [
        {
          "output_type": "execute_result",
          "data": {
            "text/plain": [
              "<function matplotlib.pyplot.show>"
            ]
          },
          "metadata": {
            "tags": []
          },
          "execution_count": 116
        },
        {
          "output_type": "display_data",
          "data": {
            "image/png": "[encoded data removed]",
            "text/plain": [
              "<Figure size 432x288 with 1 Axes>"
            ]
          },
          "metadata": {
            "tags": []
          }
        }
      ]
    },
    {
      "cell_type": "code",
      "metadata": {
        "id": "1137t9wk_KEx"
      },
      "source": [
        "#Test data set\n",
        "test_data = scaled_data[training_data_len - 60: , : ]#Create the x_test and y_test data sets\n",
        "x_test = []\n",
        "y_test =  dataset[training_data_len : , : ]\n",
        "for i in range(60,len(test_data)):\n",
        "    x_test.append(test_data[i-60:i,0])"
      ],
      "execution_count": null,
      "outputs": []
    },
    {
      "cell_type": "code",
      "metadata": {
        "id": "HQrMeAMjsHNq",
        "outputId": "b8a9c79c-a281-4e2f-ed57-cac83718dcd0",
        "colab": {
          "base_uri": "https://localhost:8080/",
          "height": 35
        }
      },
      "source": [
        "training_data_len"
      ],
      "execution_count": null,
      "outputs": [
        {
          "output_type": "execute_result",
          "data": {
            "text/plain": [
              "4169"
            ]
          },
          "metadata": {
            "tags": []
          },
          "execution_count": 118
        }
      ]
    },
    {
      "cell_type": "code",
      "metadata": {
        "id": "zoBAv_eQ_TjW"
      },
      "source": [
        "#Convert x_test to a numpy array \n",
        "x_test = np.array(x_test)"
      ],
      "execution_count": null,
      "outputs": []
    },
    {
      "cell_type": "code",
      "metadata": {
        "id": "IO9Fh8jmktaF",
        "outputId": "886af842-bac6-4ddc-cdb7-7015c378f94d",
        "colab": {
          "base_uri": "https://localhost:8080/",
          "height": 35
        }
      },
      "source": [
        "y_test.shape"
      ],
      "execution_count": null,
      "outputs": [
        {
          "output_type": "execute_result",
          "data": {
            "text/plain": [
              "(1042, 1)"
            ]
          },
          "metadata": {
            "tags": []
          },
          "execution_count": 127
        }
      ]
    },
    {
      "cell_type": "code",
      "metadata": {
        "id": "bkk5Jb51_VPV"
      },
      "source": [
        "#Reshape the data into the shape accepted by the LSTM\n",
        "x_test = np.reshape(x_test, (x_test.shape[0],x_test.shape[1],1))"
      ],
      "execution_count": null,
      "outputs": []
    },
    {
      "cell_type": "code",
      "metadata": {
        "id": "dCAVlnq0_XWi"
      },
      "source": [
        "#Getting the models predicted price values\n",
        "predictions = model.predict(x_test) \n",
        "predictions = scaler.inverse_transform(predictions)#Undo scaling"
      ],
      "execution_count": null,
      "outputs": []
    },
    {
      "cell_type": "code",
      "metadata": {
        "id": "BnuuCQ4M_Y-E",
        "outputId": "ee10b24f-d04a-4c6e-b554-89f1f1043f5a",
        "colab": {
          "base_uri": "https://localhost:8080/",
          "height": 35
        }
      },
      "source": [
        "#Calculate/Get the value of RMSE\n",
        "rmse=np.sqrt(np.mean(((predictions- y_test)**2)))\n",
        "rmse"
      ],
      "execution_count": null,
      "outputs": [
        {
          "output_type": "execute_result",
          "data": {
            "text/plain": [
              "6.170972350890437"
            ]
          },
          "metadata": {
            "tags": []
          },
          "execution_count": 123
        }
      ]
    },
    {
      "cell_type": "code",
      "metadata": {
        "id": "nAp9vTU1_a_C",
        "outputId": "44e0a4fe-d6ef-4a04-b2c3-d9323e296ff3",
        "colab": {
          "base_uri": "https://localhost:8080/",
          "height": 558
        }
      },
      "source": [
        "#Plot/Create the data for the graph\n",
        "train = data[:training_data_len]\n",
        "valid = data[training_data_len:]\n",
        "valid['Predictions'] = predictions#Visualize the data\n",
        "plt.figure(figsize=(16,8))\n",
        "plt.title('Model')\n",
        "plt.xlabel('Date', fontsize=18)\n",
        "plt.ylabel('Close Price USD ($)', fontsize=18)\n",
        "plt.plot(train['Close'],linewidth =1)\n",
        "plt.plot(valid[['Close', 'Predictions']],linewidth =1)\n",
        "plt.legend(['Train', 'Val', 'Predictions'], loc='lower right')\n",
        "plt.show()"
      ],
      "execution_count": null,
      "outputs": [
        {
          "output_type": "display_data",
          "data": {
            "image/png": "[encoded data removed]",
            "text/plain": [
              "<Figure size 1152x576 with 1 Axes>"
            ]
          },
          "metadata": {
            "tags": []
          }
        }
      ]
    },
    {
      "cell_type": "code",
      "metadata": {
        "id": "Welh4Ux-_es-",
        "outputId": "d78a174c-7086-4dd3-8d9e-5a5a9b6e18e3",
        "colab": {
          "base_uri": "https://localhost:8080/",
          "height": 455
        }
      },
      "source": [
        "#Show the valid and predicted prices\n",
        "valid"
      ],
      "execution_count": null,
      "outputs": [
        {
          "output_type": "execute_result",
          "data": {
            "text/html": [
              "<div>\n",
              "<style scoped>\n",
              "    .dataframe tbody tr th:only-of-type {\n",
              "        vertical-align: middle;\n",
              "    }\n",
              "\n",
              "    .dataframe tbody tr th {\n",
              "        vertical-align: top;\n",
              "    }\n",
              "\n",
              "    .dataframe thead th {\n",
              "        text-align: right;\n",
              "    }\n",
              "</style>\n",
              "<table border=\"1\" class=\"dataframe\">\n",
              "  <thead>\n",
              "    <tr style=\"text-align: right;\">\n",
              "      <th></th>\n",
              "      <th>Close</th>\n",
              "      <th>Predictions</th>\n",
              "    </tr>\n",
              "    <tr>\n",
              "      <th>Date</th>\n",
              "      <th></th>\n",
              "      <th></th>\n",
              "    </tr>\n",
              "  </thead>\n",
              "  <tbody>\n",
              "    <tr>\n",
              "      <th>2016-07-29</th>\n",
              "      <td>56.680000</td>\n",
              "      <td>56.856873</td>\n",
              "    </tr>\n",
              "    <tr>\n",
              "      <th>2016-08-01</th>\n",
              "      <td>56.580002</td>\n",
              "      <td>57.016682</td>\n",
              "    </tr>\n",
              "    <tr>\n",
              "      <th>2016-08-02</th>\n",
              "      <td>56.580002</td>\n",
              "      <td>57.105995</td>\n",
              "    </tr>\n",
              "    <tr>\n",
              "      <th>2016-08-03</th>\n",
              "      <td>56.970001</td>\n",
              "      <td>57.138649</td>\n",
              "    </tr>\n",
              "    <tr>\n",
              "      <th>2016-08-04</th>\n",
              "      <td>57.389999</td>\n",
              "      <td>57.164108</td>\n",
              "    </tr>\n",
              "    <tr>\n",
              "      <th>...</th>\n",
              "      <td>...</td>\n",
              "      <td>...</td>\n",
              "    </tr>\n",
              "    <tr>\n",
              "      <th>2020-09-11</th>\n",
              "      <td>204.029999</td>\n",
              "      <td>233.377518</td>\n",
              "    </tr>\n",
              "    <tr>\n",
              "      <th>2020-09-14</th>\n",
              "      <td>205.410004</td>\n",
              "      <td>230.009354</td>\n",
              "    </tr>\n",
              "    <tr>\n",
              "      <th>2020-09-15</th>\n",
              "      <td>208.779999</td>\n",
              "      <td>226.917694</td>\n",
              "    </tr>\n",
              "    <tr>\n",
              "      <th>2020-09-16</th>\n",
              "      <td>205.050003</td>\n",
              "      <td>224.583939</td>\n",
              "    </tr>\n",
              "    <tr>\n",
              "      <th>2020-09-17</th>\n",
              "      <td>202.910004</td>\n",
              "      <td>222.580109</td>\n",
              "    </tr>\n",
              "  </tbody>\n",
              "</table>\n",
              "<p>1042 rows × 2 columns</p>\n",
              "</div>"
            ],
            "text/plain": [
              "                 Close  Predictions\n",
              "Date                               \n",
              "2016-07-29   56.680000    56.856873\n",
              "2016-08-01   56.580002    57.016682\n",
              "2016-08-02   56.580002    57.105995\n",
              "2016-08-03   56.970001    57.138649\n",
              "2016-08-04   57.389999    57.164108\n",
              "...                ...          ...\n",
              "2020-09-11  204.029999   233.377518\n",
              "2020-09-14  205.410004   230.009354\n",
              "2020-09-15  208.779999   226.917694\n",
              "2020-09-16  205.050003   224.583939\n",
              "2020-09-17  202.910004   222.580109\n",
              "\n",
              "[1042 rows x 2 columns]"
            ]
          },
          "metadata": {
            "tags": []
          },
          "execution_count": 125
        }
      ]
    },
    {
      "cell_type": "code",
      "metadata": {
        "id": "R7oOB6Xr_5b3"
      },
      "source": [
        ""
      ],
      "execution_count": null,
      "outputs": []
    }
  ]
}
